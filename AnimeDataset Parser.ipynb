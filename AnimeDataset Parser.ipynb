{
 "cells": [
  {
   "cell_type": "code",
   "execution_count": 1,
   "metadata": {},
   "outputs": [
    {
     "ename": "ModuleNotFoundError",
     "evalue": "No module named '__main__.engine'; '__main__' is not a package",
     "output_type": "error",
     "traceback": [
      "\u001b[1;31m---------------------------------------------------------------------------\u001b[0m",
      "\u001b[1;31mModuleNotFoundError\u001b[0m                       Traceback (most recent call last)",
      "\u001b[1;32m<ipython-input-1-b7a6c62d016b>\u001b[0m in \u001b[0;36m<module>\u001b[1;34m()\u001b[0m\n\u001b[0;32m      1\u001b[0m \u001b[1;32mimport\u001b[0m \u001b[0mpandas\u001b[0m \u001b[1;32mas\u001b[0m \u001b[0mpd\u001b[0m\u001b[1;33m\u001b[0m\u001b[0m\n\u001b[0;32m      2\u001b[0m \u001b[1;32mfrom\u001b[0m \u001b[0mcollections\u001b[0m \u001b[1;32mimport\u001b[0m \u001b[0mdefaultdict\u001b[0m\u001b[1;33m\u001b[0m\u001b[0m\n\u001b[1;32m----> 3\u001b[1;33m \u001b[1;32mfrom\u001b[0m \u001b[1;33m.\u001b[0m\u001b[0mengine\u001b[0m \u001b[1;32mimport\u001b[0m \u001b[0manime\u001b[0m\u001b[1;33m\u001b[0m\u001b[0m\n\u001b[0m",
      "\u001b[1;31mModuleNotFoundError\u001b[0m: No module named '__main__.engine'; '__main__' is not a package"
     ]
    }
   ],
   "source": [
    "import pandas as pd\n",
    "from collections import defaultdict\n",
    "from .engine import anime"
   ]
  },
  {
   "cell_type": "code",
   "execution_count": 152,
   "metadata": {},
   "outputs": [],
   "source": []
  },
  {
   "cell_type": "code",
   "execution_count": 2,
   "metadata": {},
   "outputs": [],
   "source": [
    "#files \n",
    "anime_cl = \"anime_cleaned.csv\"\n",
    "users_cl = \"users_cleaned.csv\"\n",
    "anime_watched = \"animelists_cleaned.csv\"\n",
    "\n",
    "chunksize = 10 ** 6"
   ]
  },
  {
   "cell_type": "code",
   "execution_count": null,
   "metadata": {},
   "outputs": [],
   "source": []
  },
  {
   "cell_type": "code",
   "execution_count": 3,
   "metadata": {},
   "outputs": [],
   "source": [
    "# - type\n",
    "# - source\n",
    "# - #episodes (source=TV only) (ranges)\n",
    "# - rating\n",
    "# - studio (list)\n",
    "# - genre (list)\n",
    "# - duration_min (ranges)\n",
    "# - aired_from_year\n",
    "# Should call with \"anime_cl.csv\" which has the columns anime_id, title, type, source, etc which we want to use \n",
    "# for how \n",
    "def getAnimeList(anime_csv):\n",
    "    # Reading from the anime_cleaned, the list of anime and their related data\n",
    "    anicols_to_use = ['anime_id', 'title', 'type', 'source', 'episodes', 'rating','studio','genre','duration_min','aired_from_year']\n",
    "    chunky_a = []\n",
    "    for chunk in pd.read_csv(anime_csv, index_col=1, usecols=anicols_to_use, chunksize=chunksize):\n",
    "        chunky_a.append(chunk)\n",
    "    anime_list = pd.concat(chunky_a, axis=0)\n",
    "    del chunky_a\n",
    "    \n",
    "    # Convert anime_list into Anime datatype\n",
    "    anime_list = anime_list.T.to_dict()\n",
    "    \n",
    "    # Create anime instances\n",
    "    animeclass_list = defaultdict(list)\n",
    "\n",
    "    for a, i in anime_list.items():\n",
    "        if None in i:\n",
    "            continue\n",
    "        SType    = i['type']\n",
    "        SSource  = i['source']\n",
    "        if (SType == 'TV'):\n",
    "            NEpisode = int(i['episodes'])\n",
    "        else:\n",
    "            NEpisode = None\n",
    "        SRating  = i['rating']\n",
    "        LStudio  = i['studio']\n",
    "        LGenre   = i['genre']\n",
    "        NDura    = int(i['duration_min'])\n",
    "        NStart   = int(i['aired_from_year'])\n",
    "        anime_obj = anime(SType, SSource, NEpisode, SRating, LStudio, LGenre, NDura, NStart)\n",
    "        animeclass_list[a].append(anime_obj)\n",
    "        \n",
    "    return animeclass_list"
   ]
  },
  {
   "cell_type": "code",
   "execution_count": 4,
   "metadata": {},
   "outputs": [],
   "source": [
    "# Getting a dict of id to title\n",
    "# Should pass in \"anime_cleaned.csv\" as that has the titles and id\n",
    "def getAnimeIdDict(anime_csv):\n",
    "    chunky_b = []\n",
    "    for chunk in pd.read_csv(anime_csv, index_col = 0, usecols=['anime_id', 'title'], chunksize=chunksize):\n",
    "        chunky_b.append(chunk)\n",
    "    animeids_dict = pd.concat(chunky_b, axis=0).to_dict()\n",
    "    id_titles = anime_dict['title']\n",
    "    del chunky_b\n",
    "    return id_titles\n",
    "\n",
    "#\n",
    "#anime_list = pd.concat(chunky_a, axis=0)\n",
    "#del chunky_a\n",
    "#animeids_dict = pd.concat(chunky_b, axis=0).to_dict()\n",
    "#id_titles = animeids_dict['title']\n",
    "#del chunky_b"
   ]
  },
  {
   "cell_type": "code",
   "execution_count": null,
   "metadata": {},
   "outputs": [],
   "source": [
    "\n"
   ]
  },
  {
   "cell_type": "code",
   "execution_count": 5,
   "metadata": {},
   "outputs": [],
   "source": [
    "# Use for reading from users_cleaned.csv, the list of users\n",
    "def getUserList(users_csv):\n",
    "    chunky_u = []\n",
    "    for chunk in pd.read_csv(users_csv, usecols=['username'], chunksize=chunksize):\n",
    "        chunky_u.append(chunk)\n",
    "\n",
    "    user_list = pd.concat(chunky_u, axis=0)\n",
    "    del chunky_u\n",
    "    return user_list"
   ]
  },
  {
   "cell_type": "code",
   "execution_count": null,
   "metadata": {},
   "outputs": [],
   "source": []
  },
  {
   "cell_type": "code",
   "execution_count": 6,
   "metadata": {},
   "outputs": [],
   "source": [
    "# Reading in the data animelists_cleaned which details the user and anime watched\n",
    "# Gets a csv file with 'username','anime_id','scores' in anime_watch aka \"animelists_cleaned.csv\"\n",
    "# anime_csv has the list of corresponding anime-id and title aka \"anime_cleaned.csv\"\n",
    "# match the id with an anime title from anime_cleaned.csv\n",
    "# Then return a list of tuples of (username, anime_title, score)\n",
    "def getScore(anime_watch_csv, anime_csv):\n",
    "    watchcols_to_use = ['username', 'anime_id', 'my_score']\n",
    "    chunky_ua = []\n",
    "    for chunk in pd.read_csv(anime_watch_csv, usecols=watchcols_to_use, chunksize=chunksize):\n",
    "        chunky_ua.append(chunk)\n",
    "    \n",
    "    users_anime_watched = pd.concat(chunky_ua, axis=0)\n",
    "    del chunky_ua\n",
    "\n",
    "    #  Pull out the columns\n",
    "    usernames  = users_anime_watched['username'].tolist()\n",
    "    ids        = users_anime_watched['anime_id'].tolist()\n",
    "    users_scores = users_anime_watched['my_score'].tolist()\n",
    "\n",
    "    #get the titles to match with id\n",
    "    id_titles = getAnimeIdDict(anime_csv)\n",
    "    \n",
    "     # Connect id with title\n",
    "    titles = []\n",
    "    for i in ids:\n",
    "        titles.append(id_titles[i])\n",
    "        \n",
    "    # Create the tuple of scores (username [string], title [string], score [int])\n",
    "    user_scores = []\n",
    "    for i in range(0,len(usernames)):\n",
    "        if(1 <= users_scores[i] <= 10):\n",
    "            user_scores.append( (usernames[i], titles[i], users_scores[i]) )\n",
    "    \n",
    "    return user_scores\n",
    "    \n",
    "    "
   ]
  },
  {
   "cell_type": "code",
   "execution_count": 7,
   "metadata": {},
   "outputs": [
    {
     "ename": "NameError",
     "evalue": "name 'anime' is not defined",
     "output_type": "error",
     "traceback": [
      "\u001b[1;31m---------------------------------------------------------------------------\u001b[0m",
      "\u001b[1;31mNameError\u001b[0m                                 Traceback (most recent call last)",
      "\u001b[1;32m<ipython-input-7-f2be5cd8f8ac>\u001b[0m in \u001b[0;36m<module>\u001b[1;34m()\u001b[0m\n\u001b[0;32m      1\u001b[0m \u001b[1;31m#animeList: map where the key is the title and the value is an instance of the anime class\u001b[0m\u001b[1;33m\u001b[0m\u001b[1;33m\u001b[0m\u001b[0m\n\u001b[1;32m----> 2\u001b[1;33m \u001b[0manimeList_from_csv\u001b[0m \u001b[1;33m=\u001b[0m \u001b[0mgetAnimeList\u001b[0m\u001b[1;33m(\u001b[0m\u001b[0manime_cl\u001b[0m\u001b[1;33m)\u001b[0m\u001b[1;33m\u001b[0m\u001b[0m\n\u001b[0m\u001b[0;32m      3\u001b[0m \u001b[1;33m\u001b[0m\u001b[0m\n\u001b[0;32m      4\u001b[0m \u001b[1;31m#scoreList: list of tuples (username [string], title [string], score [int]).\u001b[0m\u001b[1;33m\u001b[0m\u001b[1;33m\u001b[0m\u001b[0m\n\u001b[0;32m      5\u001b[0m \u001b[1;31m#           Score must be in the range [1,10].\u001b[0m\u001b[1;33m\u001b[0m\u001b[1;33m\u001b[0m\u001b[0m\n",
      "\u001b[1;32m<ipython-input-3-28044de820b4>\u001b[0m in \u001b[0;36mgetAnimeList\u001b[1;34m(anime_csv)\u001b[0m\n\u001b[0;32m     38\u001b[0m         \u001b[0mNDura\u001b[0m    \u001b[1;33m=\u001b[0m \u001b[0mint\u001b[0m\u001b[1;33m(\u001b[0m\u001b[0mi\u001b[0m\u001b[1;33m[\u001b[0m\u001b[1;34m'duration_min'\u001b[0m\u001b[1;33m]\u001b[0m\u001b[1;33m)\u001b[0m\u001b[1;33m\u001b[0m\u001b[0m\n\u001b[0;32m     39\u001b[0m         \u001b[0mNStart\u001b[0m   \u001b[1;33m=\u001b[0m \u001b[0mint\u001b[0m\u001b[1;33m(\u001b[0m\u001b[0mi\u001b[0m\u001b[1;33m[\u001b[0m\u001b[1;34m'aired_from_year'\u001b[0m\u001b[1;33m]\u001b[0m\u001b[1;33m)\u001b[0m\u001b[1;33m\u001b[0m\u001b[0m\n\u001b[1;32m---> 40\u001b[1;33m         \u001b[0manime_obj\u001b[0m \u001b[1;33m=\u001b[0m \u001b[0manime\u001b[0m\u001b[1;33m(\u001b[0m\u001b[0mSType\u001b[0m\u001b[1;33m,\u001b[0m \u001b[0mSSource\u001b[0m\u001b[1;33m,\u001b[0m \u001b[0mNEpisode\u001b[0m\u001b[1;33m,\u001b[0m \u001b[0mSRating\u001b[0m\u001b[1;33m,\u001b[0m \u001b[0mLStudio\u001b[0m\u001b[1;33m,\u001b[0m \u001b[0mLGenre\u001b[0m\u001b[1;33m,\u001b[0m \u001b[0mNDura\u001b[0m\u001b[1;33m,\u001b[0m \u001b[0mNStart\u001b[0m\u001b[1;33m)\u001b[0m\u001b[1;33m\u001b[0m\u001b[0m\n\u001b[0m\u001b[0;32m     41\u001b[0m         \u001b[0manimeclass_list\u001b[0m\u001b[1;33m[\u001b[0m\u001b[0ma\u001b[0m\u001b[1;33m]\u001b[0m\u001b[1;33m.\u001b[0m\u001b[0mappend\u001b[0m\u001b[1;33m(\u001b[0m\u001b[0manime_obj\u001b[0m\u001b[1;33m)\u001b[0m\u001b[1;33m\u001b[0m\u001b[0m\n\u001b[0;32m     42\u001b[0m \u001b[1;33m\u001b[0m\u001b[0m\n",
      "\u001b[1;31mNameError\u001b[0m: name 'anime' is not defined"
     ]
    }
   ],
   "source": [
    "#animeList: map where the key is the title and the value is an instance of the anime class\n",
    "animeList_from_csv = getAnimeList(anime_cl)\n",
    "\n",
    "#scoreList: list of tuples (username [string], title [string], score [int]).\n",
    "#           Score must be in the range [1,10].\n",
    "scoreList = getScore(anime_watched, anime_cl)"
   ]
  },
  {
   "cell_type": "code",
   "execution_count": 143,
   "metadata": {},
   "outputs": [],
   "source": [
    "# Convert anime_list into Anime datatype\n",
    "#anime_list = anime_list.T.to_dict()"
   ]
  },
  {
   "cell_type": "code",
   "execution_count": 150,
   "metadata": {},
   "outputs": [],
   "source": [
    "# Create anime instances\n",
    "#animeclass_list = defaultdict(list)\n",
    "\n",
    "\n",
    "#for a, i in anime_list.items():\n",
    "#    if None in i:\n",
    "#        continue\n",
    "#    SType    = i['type']\n",
    "#    SSource  = i['source']\n",
    "#    if (SType == 'TV'):\n",
    "#        NEpisode = int(i['episodes'])\n",
    "#    else:\n",
    "#        NEpisode = None\n",
    "#    SRating  = i['rating']\n",
    "#    LStudio  = i['studio']\n",
    "#    LGenre   = i['genre']\n",
    "#    NDura    = int(i['duration_min'])\n",
    "#    NStart   = int(i['aired_from_year'])\n",
    "#    anime_obj = anime(SType, SSource, NEpisode, SRating, LStudio, LGenre, NDura, NStart)\n",
    "#    animeclass_list[a].append(anime_obj)\n",
    "\n"
   ]
  },
  {
   "cell_type": "code",
   "execution_count": 145,
   "metadata": {},
   "outputs": [],
   "source": [
    "# Also want a tuple of user and the score\n",
    "# The scores given to each anime by each user. Must be a list of tuples (username [string], title [string], score [int]).\n",
    "#           Score must be in the range [1,10]\n",
    "\n",
    "#  Pull out the columns\n",
    "#usernames  = users_anime_watched['username'].tolist()\n",
    "#ids        = users_anime_watched['anime_id'].tolist()\n",
    "#users_cores = users_anime_watched['my_score'].tolist()\n"
   ]
  },
  {
   "cell_type": "code",
   "execution_count": 146,
   "metadata": {},
   "outputs": [],
   "source": [
    "# Connect id with title\n",
    "#titles = []\n",
    "#for i in ids:\n",
    "#    titles.append(id_titles[i])"
   ]
  },
  {
   "cell_type": "code",
   "execution_count": 148,
   "metadata": {},
   "outputs": [],
   "source": [
    "# Create the tuple of scores (username [string], title [string], score [int])\n",
    "#user_scores = []\n",
    "#for i in range(0,len(usernames)):\n",
    "#    user_scores.append( (usernames[i], titles[i], users_cores[i]) )"
   ]
  },
  {
   "cell_type": "code",
   "execution_count": null,
   "metadata": {},
   "outputs": [],
   "source": []
  },
  {
   "cell_type": "code",
   "execution_count": null,
   "metadata": {},
   "outputs": [],
   "source": []
  }
 ],
 "metadata": {
  "kernelspec": {
   "display_name": "Python 3",
   "language": "python",
   "name": "python3"
  },
  "language_info": {
   "codemirror_mode": {
    "name": "ipython",
    "version": 3
   },
   "file_extension": ".py",
   "mimetype": "text/x-python",
   "name": "python",
   "nbconvert_exporter": "python",
   "pygments_lexer": "ipython3",
   "version": "3.6.4"
  }
 },
 "nbformat": 4,
 "nbformat_minor": 2
}
